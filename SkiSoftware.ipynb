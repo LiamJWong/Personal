{
 "cells": [
  {
   "cell_type": "markdown",
   "metadata": {},
   "source": [
    "# ENSF 310: Lab #5\n",
    "## Design, implementation and testing of a simple software system"
   ]
  },
  {
   "cell_type": "markdown",
   "metadata": {},
   "source": [
    "# Part 1: Software Design (40 points)\n",
    "\n",
    "Your team has been hired to develop the back end to a ticket checking and capacity management system for a local ski resort.  The ski hill has already purchased equipment to scan tickets and passes and tickets are sold at the ticket counter using existing equipment and an existing user interface.  Your system should\n",
    "* Maintain a list or database of ski pass holders\n",
    "* Generate and validate daily ski tickets.  You do not have to handle the actual payments or multi-day tickets.\n",
    "* Allow no more than 200 skiers on the mountain on any particular day\n",
    "* All ski area users have a profile with personal information and an email address and phone number\n",
    "\n",
    "You do not have to provide an interactive user interface beyond what is needed to test functionality.  For example, you can assume that when a ticket is scanned, a function such as `Ticket.scan(ticket)` is called, and to issue a new ticket, a function such as `Ticket.issue()` is called.\n",
    "\n",
    "## 1. Requirements\n",
    "Develop a set of testable requirements based on the given information.  Clearly state all assumptions you have to make.  You will have to develop and demonstrate a test for each of your requirements based on your implementation.\n",
    "\n",
    "### Requirements:\n",
    "* Make sure no more than 200 skiers on mountain per day\n",
    "* Ticket should display basic information \n",
    "* Create database of all users\n",
    "\n",
    "## 2. Software Design\n",
    "Detail the class and function level design of your solution.\n",
    "\n",
    "* class: `Database`\n",
    "  * variables:\n",
    "    * `Name`:\n",
    "    * `Email`:\n",
    "    * `PhoneNumber`:\n",
    "    * `Skiers_Data`:\n",
    "    * `UpdatedList`:\n",
    "    * `UniqueCode`:\n",
    "  * functions:\n",
    "    * `UpdateList()`: Takes Skiers_Data as a dataframe() inputs column data with variable lists Name, Email, PhoneNumber returns `UpdatedList`\n",
    "    * `CheckRepeat()`: Checks Skiers_Data for repeats in dataframe returns `True` if repeat\n",
    "\n",
    "* class: `Ticket`\n",
    "  * variables:\n",
    "    * `Name`:\n",
    "    * `CurrentDate`:\n",
    "    * `DateValid`:\n",
    "  * functions:\n",
    "    * `ValidateTicket(CurrentDate, DateValid)`: if CurrentDate = DateValid return `True`, calls Daily_Skiers.countSkiers()\n",
    "    * `IssueTicket(Name, CurrentDate)`: creates UniqueCode for ticketholder based on CurrentDate\n",
    "\n",
    "* class: `Daily_Skiers`\n",
    "  * variables:\n",
    "    * `CurrentSkiers`:\n",
    "    * `CanSki`:\n",
    "  * functions:\n",
    "    * `countSkiers()`: adds to `CurrentSkiers` everytime a ticket is scanned\n",
    "    * `compare(CurrentSkiers)`: checks `CurrentSkiers` and if < 200, CanSki = True\n",
    "\n",
    "\n"
   ]
  },
  {
   "cell_type": "markdown",
   "metadata": {},
   "source": [
    "# Part 2: Implementation (40 points)\n",
    "\n",
    "Implement your design in a separate python file.  Place any testing / debugging code in this Python notebook -- your testing code should demonstrate functionality of your soution."
   ]
  },
  {
   "cell_type": "markdown",
   "metadata": {},
   "source": [
    "## All design is in the `SkiSim.py` file"
   ]
  },
  {
   "cell_type": "markdown",
   "metadata": {},
   "source": [
    "# Part 3: Testing (20 points)\n",
    "\n",
    "Develop a series of tests to test that your solution meets the requirements you set out in part 1.  You must test each requirement."
   ]
  },
  {
   "cell_type": "markdown",
   "metadata": {},
   "source": [
    "## Ticket Generation and Validation"
   ]
  },
  {
   "cell_type": "code",
   "execution_count": 1,
   "metadata": {},
   "outputs": [
    {
     "name": "stdout",
     "output_type": "stream",
     "text": [
      "8 0 2 7 7 5 1 T\n"
     ]
    },
    {
     "data": {
      "text/plain": [
       "True"
      ]
     },
     "execution_count": 1,
     "metadata": {},
     "output_type": "execute_result"
    }
   ],
   "source": [
    "import SkiSim \n",
    "import pandas as pd\n",
    "import numpy as np\n",
    "\n",
    "## Ticket Generation and Validation\n",
    "#Start with empty array to pass to ticket class\n",
    "unique = [] \n",
    "\n",
    "#Initiate A, pass empty array to Ticket()\n",
    "A = SkiSim.Ticket(unique) \n",
    "\n",
    "#Create Unique Ticket for A\n",
    "A.createTick()\n",
    "\n",
    "#Print Unique Ticket of A before it has been scanned\n",
    "print(A)\n",
    "\n",
    "#Check for Validity of Ticket A and Then Change To Invalid \n",
    "#If A.isValid() is called again the return will be false\n",
    "A.isValid() "
   ]
  },
  {
   "cell_type": "code",
   "execution_count": 2,
   "metadata": {},
   "outputs": [
    {
     "name": "stdout",
     "output_type": "stream",
     "text": [
      "8 0 2 7 7 5 1 F\n"
     ]
    }
   ],
   "source": [
    "#Second time the ticket A is scanned it will already be used. Returns 'False'\n",
    "A.isValid() \n",
    "\n",
    "#Print Ticket A after it has been scanned\n",
    "print(A)"
   ]
  },
  {
   "cell_type": "markdown",
   "metadata": {},
   "source": [
    "#### Further Display of Testing Code Hidden in Markdown - Tickets"
   ]
  },
  {
   "cell_type": "code",
   "execution_count": 3,
   "metadata": {},
   "outputs": [
    {
     "name": "stdout",
     "output_type": "stream",
     "text": [
      "6 2 6 4 1 2 3 F\n"
     ]
    },
    {
     "data": {
      "text/plain": [
       "False"
      ]
     },
     "execution_count": 3,
     "metadata": {},
     "output_type": "execute_result"
    }
   ],
   "source": [
    "import SkiSim\n",
    "import pandas as pd\n",
    "import numpy as np \n",
    "\n",
    "### Test for validity\n",
    "sample=[]\n",
    "for i in range (7): \n",
    "    sample.append(np.random.randint(0,9))\n",
    "sample.append('T')\n",
    "A=SkiSim.Ticket(sample)\n",
    "A.isValid()\n",
    "print(A)\n",
    "#It returns F in the ending meaning that the ticket is used. \n",
    "\n",
    "for i in range (7): \n",
    "    sample.append(np.random.randint(0,9))\n",
    "sample.append('F')\n",
    "A=SkiSim.Ticket(sample)\n",
    "A.isValid()\n",
    "#It returns False meaning that the ticket is not valid."
   ]
  },
  {
   "cell_type": "markdown",
   "metadata": {},
   "source": [
    "## Total Skier Count on The Mountain"
   ]
  },
  {
   "cell_type": "code",
   "execution_count": 4,
   "metadata": {},
   "outputs": [
    {
     "data": {
      "text/html": [
       "<div>\n",
       "<style scoped>\n",
       "    .dataframe tbody tr th:only-of-type {\n",
       "        vertical-align: middle;\n",
       "    }\n",
       "\n",
       "    .dataframe tbody tr th {\n",
       "        vertical-align: top;\n",
       "    }\n",
       "\n",
       "    .dataframe thead th {\n",
       "        text-align: right;\n",
       "    }\n",
       "</style>\n",
       "<table border=\"1\" class=\"dataframe\">\n",
       "  <thead>\n",
       "    <tr style=\"text-align: right;\">\n",
       "      <th></th>\n",
       "      <th>Skier</th>\n",
       "      <th>CanSki?</th>\n",
       "    </tr>\n",
       "  </thead>\n",
       "  <tbody>\n",
       "    <tr>\n",
       "      <th>0</th>\n",
       "      <td>1</td>\n",
       "      <td>True</td>\n",
       "    </tr>\n",
       "    <tr>\n",
       "      <th>1</th>\n",
       "      <td>2</td>\n",
       "      <td>True</td>\n",
       "    </tr>\n",
       "    <tr>\n",
       "      <th>2</th>\n",
       "      <td>3</td>\n",
       "      <td>True</td>\n",
       "    </tr>\n",
       "    <tr>\n",
       "      <th>3</th>\n",
       "      <td>4</td>\n",
       "      <td>True</td>\n",
       "    </tr>\n",
       "    <tr>\n",
       "      <th>4</th>\n",
       "      <td>5</td>\n",
       "      <td>True</td>\n",
       "    </tr>\n",
       "    <tr>\n",
       "      <th>...</th>\n",
       "      <td>...</td>\n",
       "      <td>...</td>\n",
       "    </tr>\n",
       "    <tr>\n",
       "      <th>199</th>\n",
       "      <td>200</td>\n",
       "      <td>True</td>\n",
       "    </tr>\n",
       "    <tr>\n",
       "      <th>200</th>\n",
       "      <td>201</td>\n",
       "      <td>False</td>\n",
       "    </tr>\n",
       "    <tr>\n",
       "      <th>201</th>\n",
       "      <td>202</td>\n",
       "      <td>False</td>\n",
       "    </tr>\n",
       "    <tr>\n",
       "      <th>202</th>\n",
       "      <td>203</td>\n",
       "      <td>False</td>\n",
       "    </tr>\n",
       "    <tr>\n",
       "      <th>203</th>\n",
       "      <td>204</td>\n",
       "      <td>False</td>\n",
       "    </tr>\n",
       "  </tbody>\n",
       "</table>\n",
       "<p>204 rows × 2 columns</p>\n",
       "</div>"
      ],
      "text/plain": [
       "    Skier  CanSki?\n",
       "0       1     True\n",
       "1       2     True\n",
       "2       3     True\n",
       "3       4     True\n",
       "4       5     True\n",
       "..    ...      ...\n",
       "199   200     True\n",
       "200   201    False\n",
       "201   202    False\n",
       "202   203    False\n",
       "203   204    False\n",
       "\n",
       "[204 rows x 2 columns]"
      ]
     },
     "execution_count": 4,
     "metadata": {},
     "output_type": "execute_result"
    }
   ],
   "source": [
    "import SkiSim\n",
    "import pandas as pd\n",
    "\n",
    "# This for loop demonstrates 204 people attempting to ski\n",
    "# After the 200th person the system will return false for B.canSki()\n",
    "# the individuals after will be denied access \n",
    "\n",
    "df = list()\n",
    "for i in range(204):\n",
    "    B = SkiSim.Daily_Skiers()\n",
    "    B.canSki()\n",
    "\n",
    "    #Purpose to illustrate table, showing all attempts\n",
    "    B_stuff = {'Skier': B, 'CanSki?': B.canSki()}\n",
    "    df.append(B_stuff)\n",
    "\n",
    "#Print table for visual\n",
    "data = pd.DataFrame(df)\n",
    "data"
   ]
  },
  {
   "cell_type": "code",
   "execution_count": 5,
   "metadata": {},
   "outputs": [],
   "source": [
    "# To clear the count if necessary call the method clearcount()\n",
    "# This would be to allow the counter to be used another day\n",
    "B.clearCount()"
   ]
  },
  {
   "cell_type": "markdown",
   "metadata": {},
   "source": [
    "#### Further testing code - 200 Max Skiers"
   ]
  },
  {
   "cell_type": "code",
   "execution_count": 6,
   "metadata": {},
   "outputs": [
    {
     "name": "stdout",
     "output_type": "stream",
     "text": [
      "0       True\n",
      "1       True\n",
      "2       True\n",
      "3       True\n",
      "4       True\n",
      "       ...  \n",
      "201    False\n",
      "202    False\n",
      "203    False\n",
      "204     True\n",
      "205     True\n",
      "Name: CanSki?, Length: 206, dtype: bool\n"
     ]
    }
   ],
   "source": [
    "### Test for maximum of 200 skier on the moutain at a time\n",
    "#Because there are already 200 skiers on the moutain, if we add one more to the list, the result should be False. \n",
    "test_list= ()\n",
    "for i in range (2):\n",
    "    B = SkiSim.Daily_Skiers()\n",
    "    B.canSki()\n",
    "    B_stuff = {'Skier': B, 'CanSki?': B.canSki()}\n",
    "    df.append(B_stuff)\n",
    "data = pd.DataFrame(df)\n",
    "print(data['CanSki?'])"
   ]
  },
  {
   "cell_type": "markdown",
   "metadata": {},
   "source": [
    "## Keeping a Database of Skiers with Personal Information"
   ]
  },
  {
   "cell_type": "code",
   "execution_count": 7,
   "metadata": {},
   "outputs": [
    {
     "data": {
      "text/plain": [
       "{'name': 'Liam', 'email': 'lwong@email.com', 'phone': '111111'} {'name': 'Hy', 'email': 'Hysemail@email.com', 'phone': '135135'} {'name': 'User_input_name', 'email': 'User_input_email', 'phone': 'User_input_phone'}"
      ]
     },
     "execution_count": 7,
     "metadata": {},
     "output_type": "execute_result"
    }
   ],
   "source": [
    "### Print a database of the skiers\n",
    "\n",
    "#Define empty list\n",
    "datalist = []\n",
    "\n",
    "#Pass Empty list to Database method to be filled with skier data\n",
    "Data = SkiSim.Database(datalist)\n",
    "\n",
    "#Pass skier data to empty list \n",
    "Data.add2data('Liam', 'lwong@email.com', '111111')\n",
    "Data.add2data('Hy', 'Hysemail@email.com', '135135')\n",
    "Data.add2data('User_input_name', 'User_input_email', 'User_input_phone')\n",
    "\n",
    "#Print the resulting data (returns as dictionary)\n",
    "Data"
   ]
  }
 ],
 "metadata": {
  "interpreter": {
   "hash": "29aaa2af55d50673da0d4eedf7b0dd2ae653df1bf38d4b1f9f26fc747644033c"
  },
  "kernelspec": {
   "display_name": "Python 3.9.7 64-bit (windows store)",
   "name": "python3"
  },
  "language_info": {
   "codemirror_mode": {
    "name": "ipython",
    "version": 3
   },
   "file_extension": ".py",
   "mimetype": "text/x-python",
   "name": "python",
   "nbconvert_exporter": "python",
   "pygments_lexer": "ipython3",
   "version": "3.9.7"
  }
 },
 "nbformat": 4,
 "nbformat_minor": 2
}
