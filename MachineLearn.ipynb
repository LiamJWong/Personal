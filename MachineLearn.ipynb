{
 "cells": [
  {
   "cell_type": "markdown",
   "metadata": {},
   "source": [
    "# Classification of Wheaet Seeds using KNN Algorithm"
   ]
  },
  {
   "cell_type": "markdown",
   "metadata": {},
   "source": [
    "### Task 1 Develop a machine learning model"
   ]
  },
  {
   "cell_type": "code",
   "execution_count": 110,
   "metadata": {},
   "outputs": [
    {
     "data": {
      "text/html": [
       "<div>\n",
       "<style scoped>\n",
       "    .dataframe tbody tr th:only-of-type {\n",
       "        vertical-align: middle;\n",
       "    }\n",
       "\n",
       "    .dataframe tbody tr th {\n",
       "        vertical-align: top;\n",
       "    }\n",
       "\n",
       "    .dataframe thead th {\n",
       "        text-align: right;\n",
       "    }\n",
       "</style>\n",
       "<table border=\"1\" class=\"dataframe\">\n",
       "  <thead>\n",
       "    <tr style=\"text-align: right;\">\n",
       "      <th></th>\n",
       "      <th>Area</th>\n",
       "      <th>Perimeter</th>\n",
       "      <th>Compactness</th>\n",
       "      <th>Length of Kernel</th>\n",
       "      <th>Width of Kernel</th>\n",
       "      <th>Asymmetry Coefficient</th>\n",
       "      <th>Length of Kernel Groove</th>\n",
       "      <th>WheatType</th>\n",
       "    </tr>\n",
       "  </thead>\n",
       "  <tbody>\n",
       "    <tr>\n",
       "      <th>0</th>\n",
       "      <td>15.26</td>\n",
       "      <td>14.84</td>\n",
       "      <td>0.8710</td>\n",
       "      <td>5.763</td>\n",
       "      <td>3.312</td>\n",
       "      <td>2.221</td>\n",
       "      <td>5.220</td>\n",
       "      <td>1</td>\n",
       "    </tr>\n",
       "    <tr>\n",
       "      <th>1</th>\n",
       "      <td>14.88</td>\n",
       "      <td>14.57</td>\n",
       "      <td>0.8811</td>\n",
       "      <td>5.554</td>\n",
       "      <td>3.333</td>\n",
       "      <td>1.018</td>\n",
       "      <td>4.956</td>\n",
       "      <td>1</td>\n",
       "    </tr>\n",
       "    <tr>\n",
       "      <th>2</th>\n",
       "      <td>14.29</td>\n",
       "      <td>14.09</td>\n",
       "      <td>0.9050</td>\n",
       "      <td>5.291</td>\n",
       "      <td>3.337</td>\n",
       "      <td>2.699</td>\n",
       "      <td>4.825</td>\n",
       "      <td>1</td>\n",
       "    </tr>\n",
       "    <tr>\n",
       "      <th>3</th>\n",
       "      <td>13.84</td>\n",
       "      <td>13.94</td>\n",
       "      <td>0.8955</td>\n",
       "      <td>5.324</td>\n",
       "      <td>3.379</td>\n",
       "      <td>2.259</td>\n",
       "      <td>4.805</td>\n",
       "      <td>1</td>\n",
       "    </tr>\n",
       "    <tr>\n",
       "      <th>4</th>\n",
       "      <td>16.14</td>\n",
       "      <td>14.99</td>\n",
       "      <td>0.9034</td>\n",
       "      <td>5.658</td>\n",
       "      <td>3.562</td>\n",
       "      <td>1.355</td>\n",
       "      <td>5.175</td>\n",
       "      <td>1</td>\n",
       "    </tr>\n",
       "  </tbody>\n",
       "</table>\n",
       "</div>"
      ],
      "text/plain": [
       "    Area  Perimeter  Compactness  Length of Kernel  Width of Kernel  \\\n",
       "0  15.26      14.84       0.8710             5.763            3.312   \n",
       "1  14.88      14.57       0.8811             5.554            3.333   \n",
       "2  14.29      14.09       0.9050             5.291            3.337   \n",
       "3  13.84      13.94       0.8955             5.324            3.379   \n",
       "4  16.14      14.99       0.9034             5.658            3.562   \n",
       "\n",
       "   Asymmetry Coefficient  Length of Kernel Groove  WheatType  \n",
       "0                  2.221                    5.220          1  \n",
       "1                  1.018                    4.956          1  \n",
       "2                  2.699                    4.825          1  \n",
       "3                  2.259                    4.805          1  \n",
       "4                  1.355                    5.175          1  "
      ]
     },
     "execution_count": 110,
     "metadata": {},
     "output_type": "execute_result"
    }
   ],
   "source": [
    "## import the DataFrame\n",
    "import pandas as pd\n",
    "import numpy as np\n",
    "\n",
    "wheatData = pd.read_csv('wheatseedsDataset.csv',header=0)\n",
    "wheatData.head()"
   ]
  },
  {
   "cell_type": "code",
   "execution_count": 111,
   "metadata": {},
   "outputs": [],
   "source": [
    "## Isolating information from DataFrame for Machine Learning\n",
    "from sklearn.model_selection import train_test_split\n",
    "from sklearn import preprocessing\n",
    "wheatData = wheatData.drop(columns=['Compactness'])\n",
    "wheatData = wheatData.drop(columns=['Asymmetry Coefficient'])\n",
    "wheatData = wheatData.drop(columns=['Area'])\n",
    "wheatData = wheatData.drop(columns=['Perimeter'])\n",
    "wheatData = wheatData.drop(columns=['Length of Kernel Groove'])\n",
    "\n",
    "classtype = wheatData.WheatType"
   ]
  },
  {
   "cell_type": "code",
   "execution_count": 112,
   "metadata": {},
   "outputs": [],
   "source": [
    "## using train_test_split to separate the dataframe into training testing arrays\n",
    "wheatData_train, wheatData_test, classtype_train, classtype_test = train_test_split(wheatData, classtype)"
   ]
  },
  {
   "cell_type": "code",
   "execution_count": 113,
   "metadata": {},
   "outputs": [],
   "source": [
    "## preprocessing the array into 'normalized' values\n",
    "##  attributes with minmaxscaler, classes with labelencoder\n",
    "n1 = preprocessing.MinMaxScaler()\n",
    "n1 = n1.fit(wheatData_train.to_numpy())\n",
    "Data_train = n1.transform(wheatData_train.to_numpy())\n",
    "\n",
    "#Should be unnecessary because our classes are already numerical\n",
    "#le = preprocessing.LabelEncoder()\n",
    "#le = le.fit(classtype_train)"
   ]
  },
  {
   "cell_type": "code",
   "execution_count": 114,
   "metadata": {},
   "outputs": [
    {
     "name": "stdout",
     "output_type": "stream",
     "text": [
      "(157, 3)\n",
      "(157,)\n"
     ]
    }
   ],
   "source": [
    "## Check for matching instances\n",
    "print(Data_train.shape)\n",
    "print(classtype_train.shape)"
   ]
  },
  {
   "cell_type": "code",
   "execution_count": 115,
   "metadata": {},
   "outputs": [],
   "source": [
    "## Creates the machine learning model where n_neighbors is the number of neighbors that each point will check\n",
    "from sklearn.neighbors import KNeighborsClassifier\n",
    "knn = KNeighborsClassifier(n_neighbors=5)\n",
    "knn = knn.fit(Data_train, classtype_train)"
   ]
  },
  {
   "cell_type": "code",
   "execution_count": 116,
   "metadata": {},
   "outputs": [
    {
     "name": "stderr",
     "output_type": "stream",
     "text": [
      "C:\\Users\\liamj\\AppData\\Local\\Packages\\PythonSoftwareFoundation.Python.3.9_qbz5n2kfra8p0\\LocalCache\\local-packages\\Python39\\site-packages\\sklearn\\base.py:438: UserWarning: X has feature names, but KNeighborsClassifier was fitted without feature names\n",
      "  warnings.warn(\n"
     ]
    },
    {
     "data": {
      "text/html": [
       "<div>\n",
       "<style scoped>\n",
       "    .dataframe tbody tr th:only-of-type {\n",
       "        vertical-align: middle;\n",
       "    }\n",
       "\n",
       "    .dataframe tbody tr th {\n",
       "        vertical-align: top;\n",
       "    }\n",
       "\n",
       "    .dataframe thead th {\n",
       "        text-align: right;\n",
       "    }\n",
       "</style>\n",
       "<table border=\"1\" class=\"dataframe\">\n",
       "  <thead>\n",
       "    <tr style=\"text-align: right;\">\n",
       "      <th></th>\n",
       "      <th>WheatType</th>\n",
       "      <th>Prediction</th>\n",
       "    </tr>\n",
       "  </thead>\n",
       "  <tbody>\n",
       "    <tr>\n",
       "      <th>15</th>\n",
       "      <td>1</td>\n",
       "      <td>2</td>\n",
       "    </tr>\n",
       "    <tr>\n",
       "      <th>119</th>\n",
       "      <td>2</td>\n",
       "      <td>2</td>\n",
       "    </tr>\n",
       "    <tr>\n",
       "      <th>124</th>\n",
       "      <td>2</td>\n",
       "      <td>2</td>\n",
       "    </tr>\n",
       "    <tr>\n",
       "      <th>132</th>\n",
       "      <td>2</td>\n",
       "      <td>2</td>\n",
       "    </tr>\n",
       "    <tr>\n",
       "      <th>191</th>\n",
       "      <td>3</td>\n",
       "      <td>2</td>\n",
       "    </tr>\n",
       "  </tbody>\n",
       "</table>\n",
       "</div>"
      ],
      "text/plain": [
       "     WheatType  Prediction\n",
       "15           1           2\n",
       "119          2           2\n",
       "124          2           2\n",
       "132          2           2\n",
       "191          3           2"
      ]
     },
     "execution_count": 116,
     "metadata": {},
     "output_type": "execute_result"
    }
   ],
   "source": [
    "## Can compare real answers and knn prediction with dataframe\n",
    "Answers = pd.DataFrame()\n",
    "Answers['WheatType'] = classtype_test\n",
    "Answers['Prediction'] = knn.predict(wheatData_test)\n",
    "Answers.head()"
   ]
  },
  {
   "cell_type": "code",
   "execution_count": 117,
   "metadata": {},
   "outputs": [
    {
     "name": "stdout",
     "output_type": "stream",
     "text": [
      "The accuracy value for the testing set was: 0.33962264150943394\n",
      "The accuracy value for the training set was: 0.33121019108280253\n"
     ]
    },
    {
     "name": "stderr",
     "output_type": "stream",
     "text": [
      "C:\\Users\\liamj\\AppData\\Local\\Packages\\PythonSoftwareFoundation.Python.3.9_qbz5n2kfra8p0\\LocalCache\\local-packages\\Python39\\site-packages\\sklearn\\base.py:438: UserWarning: X has feature names, but KNeighborsClassifier was fitted without feature names\n",
      "  warnings.warn(\n",
      "C:\\Users\\liamj\\AppData\\Local\\Packages\\PythonSoftwareFoundation.Python.3.9_qbz5n2kfra8p0\\LocalCache\\local-packages\\Python39\\site-packages\\sklearn\\base.py:438: UserWarning: X has feature names, but KNeighborsClassifier was fitted without feature names\n",
      "  warnings.warn(\n"
     ]
    }
   ],
   "source": [
    "print('The accuracy value for the testing set was:', knn.score(wheatData_test, classtype_test))\n",
    "print('The accuracy value for the training set was:', knn.score(wheatData_train, classtype_train))"
   ]
  },
  {
   "cell_type": "markdown",
   "metadata": {},
   "source": [
    "### Task 2 Doing analysis to find the best value of k"
   ]
  },
  {
   "cell_type": "code",
   "execution_count": 118,
   "metadata": {},
   "outputs": [
    {
     "data": {
      "text/html": [
       "<div>\n",
       "<style scoped>\n",
       "    .dataframe tbody tr th:only-of-type {\n",
       "        vertical-align: middle;\n",
       "    }\n",
       "\n",
       "    .dataframe tbody tr th {\n",
       "        vertical-align: top;\n",
       "    }\n",
       "\n",
       "    .dataframe thead th {\n",
       "        text-align: right;\n",
       "    }\n",
       "</style>\n",
       "<table border=\"1\" class=\"dataframe\">\n",
       "  <thead>\n",
       "    <tr style=\"text-align: right;\">\n",
       "      <th></th>\n",
       "      <th>K Value</th>\n",
       "      <th>Test Data Accuracy</th>\n",
       "      <th>Train Data Accuracy</th>\n",
       "      <th>Knn</th>\n",
       "    </tr>\n",
       "  </thead>\n",
       "  <tbody>\n",
       "    <tr>\n",
       "      <th>0</th>\n",
       "      <td>1</td>\n",
       "      <td>0.396226</td>\n",
       "      <td>0.312102</td>\n",
       "      <td>KNeighborsClassifier(n_neighbors=1)</td>\n",
       "    </tr>\n",
       "    <tr>\n",
       "      <th>1</th>\n",
       "      <td>2</td>\n",
       "      <td>0.377358</td>\n",
       "      <td>0.318471</td>\n",
       "      <td>KNeighborsClassifier(n_neighbors=2)</td>\n",
       "    </tr>\n",
       "    <tr>\n",
       "      <th>2</th>\n",
       "      <td>3</td>\n",
       "      <td>0.245283</td>\n",
       "      <td>0.363057</td>\n",
       "      <td>KNeighborsClassifier(n_neighbors=3)</td>\n",
       "    </tr>\n",
       "    <tr>\n",
       "      <th>3</th>\n",
       "      <td>4</td>\n",
       "      <td>0.264151</td>\n",
       "      <td>0.356688</td>\n",
       "      <td>KNeighborsClassifier(n_neighbors=4)</td>\n",
       "    </tr>\n",
       "    <tr>\n",
       "      <th>4</th>\n",
       "      <td>5</td>\n",
       "      <td>0.415094</td>\n",
       "      <td>0.305732</td>\n",
       "      <td>KNeighborsClassifier()</td>\n",
       "    </tr>\n",
       "  </tbody>\n",
       "</table>\n",
       "</div>"
      ],
      "text/plain": [
       "   K Value  Test Data Accuracy  Train Data Accuracy  \\\n",
       "0        1            0.396226             0.312102   \n",
       "1        2            0.377358             0.318471   \n",
       "2        3            0.245283             0.363057   \n",
       "3        4            0.264151             0.356688   \n",
       "4        5            0.415094             0.305732   \n",
       "\n",
       "                                   Knn  \n",
       "0  KNeighborsClassifier(n_neighbors=1)  \n",
       "1  KNeighborsClassifier(n_neighbors=2)  \n",
       "2  KNeighborsClassifier(n_neighbors=3)  \n",
       "3  KNeighborsClassifier(n_neighbors=4)  \n",
       "4               KNeighborsClassifier()  "
      ]
     },
     "execution_count": 118,
     "metadata": {},
     "output_type": "execute_result"
    }
   ],
   "source": [
    "Accuracy = pd.DataFrame()\n",
    "\n",
    "## MANUALLY FOUND VALUES FOR ACCURACY\n",
    "K = []\n",
    "A = [0.396226,0.377358,0.245283,0.264151,0.415094,0.320755,0.301887,0.283019,0.358491,0.188679,0.339623,0.377358,0.301887,0.339623,0.245283,0.207547,0.339623,0.415094,0.396226,0.264151, 0.320755,0.358491,0.339623,0.377358,0.320755,0.415094,0.320755,0.339623,0.283019,0.320755,0.377358,0.320755,0.301887,0.377358,0.339623,0.377358,0.339623,0.358491,0.396226,0.339623,0.320755,0.358491,0.339623,0.377358,0.358491,0.320755,0.339623,0.377358,0.358491,0.339623,0.358491,0.339623,0.339623]\n",
    "T = [0.312102,0.318471,0.363057,0.356688,0.305732,0.33758,0.343949,0.350318,0.324841,0.3821660,0.33121,0.318471,0.343949,0.33121,0.363057,0.375796,0.33121,0.305732,0.312102,0.356688,0.33758,0.324841,0.33121,0.318471,0.33758,0.305732,0.33758,0.33121,0.350318,0.33758,0.318471,0.33758,0.343949,0.318471,0.33121,0.318471,0.33121,0.324841,0.312102,0.33121,0.33758,0.324841,0.33121,0.318471,0.324841,0.33758,0.33121,0.318471,0.324841,0.33121,0.324841,0.33121,0.33121]\n",
    "KN = [KNeighborsClassifier(n_neighbors=1),KNeighborsClassifier(n_neighbors=2),KNeighborsClassifier(n_neighbors=3),KNeighborsClassifier(n_neighbors=4),KNeighborsClassifier(n_neighbors=5),KNeighborsClassifier(n_neighbors=6),KNeighborsClassifier(n_neighbors=7),KNeighborsClassifier(n_neighbors=8),KNeighborsClassifier(n_neighbors=9),KNeighborsClassifier(n_neighbors=10),KNeighborsClassifier(n_neighbors=11),KNeighborsClassifier(n_neighbors=12),KNeighborsClassifier(n_neighbors=13),KNeighborsClassifier(n_neighbors=14),KNeighborsClassifier(n_neighbors=15),KNeighborsClassifier(n_neighbors=16),KNeighborsClassifier(n_neighbors=17),KNeighborsClassifier(n_neighbors=18),KNeighborsClassifier(n_neighbors=19),KNeighborsClassifier(n_neighbors=20),KNeighborsClassifier(n_neighbors=21),KNeighborsClassifier(n_neighbors=22),KNeighborsClassifier(n_neighbors=23),KNeighborsClassifier(n_neighbors=24),KNeighborsClassifier(n_neighbors=25),KNeighborsClassifier(n_neighbors=26),KNeighborsClassifier(n_neighbors=27),KNeighborsClassifier(n_neighbors=28),KNeighborsClassifier(n_neighbors=29),KNeighborsClassifier(n_neighbors=30),KNeighborsClassifier(n_neighbors=31),KNeighborsClassifier(n_neighbors=32),KNeighborsClassifier(n_neighbors=33),KNeighborsClassifier(n_neighbors=34),KNeighborsClassifier(n_neighbors=35),KNeighborsClassifier(n_neighbors=36),KNeighborsClassifier(n_neighbors=37),KNeighborsClassifier(n_neighbors=38),KNeighborsClassifier(n_neighbors=39),KNeighborsClassifier(n_neighbors=40),KNeighborsClassifier(n_neighbors=41),KNeighborsClassifier(n_neighbors=42),KNeighborsClassifier(n_neighbors=43),KNeighborsClassifier(n_neighbors=44),KNeighborsClassifier(n_neighbors=45),KNeighborsClassifier(n_neighbors=46),KNeighborsClassifier(n_neighbors=47),KNeighborsClassifier(n_neighbors=48),KNeighborsClassifier(n_neighbors=49),KNeighborsClassifier(n_neighbors=50),KNeighborsClassifier(n_neighbors=51),KNeighborsClassifier(n_neighbors=52),KNeighborsClassifier(n_neighbors=53)]\n",
    "k=1\n",
    "while k<=53:\n",
    "    K.append(k)\n",
    "    k+=1\n",
    "    \n",
    "Accuracy['K Value'] = K\n",
    "Accuracy['Test Data Accuracy'] = A\n",
    "Accuracy['Train Data Accuracy'] = T\n",
    "Accuracy['Knn'] = KN\n",
    "\n",
    "Accuracy.head()"
   ]
  },
  {
   "cell_type": "markdown",
   "metadata": {},
   "source": [
    "### REPEAT TASK 2 Using StandardScaler() instead of MinMaxScaler()"
   ]
  },
  {
   "cell_type": "code",
   "execution_count": 119,
   "metadata": {},
   "outputs": [
    {
     "data": {
      "text/html": [
       "<div>\n",
       "<style scoped>\n",
       "    .dataframe tbody tr th:only-of-type {\n",
       "        vertical-align: middle;\n",
       "    }\n",
       "\n",
       "    .dataframe tbody tr th {\n",
       "        vertical-align: top;\n",
       "    }\n",
       "\n",
       "    .dataframe thead th {\n",
       "        text-align: right;\n",
       "    }\n",
       "</style>\n",
       "<table border=\"1\" class=\"dataframe\">\n",
       "  <thead>\n",
       "    <tr style=\"text-align: right;\">\n",
       "      <th></th>\n",
       "      <th>K Value</th>\n",
       "      <th>Test Data Accuracy</th>\n",
       "      <th>Train Data Accuracy</th>\n",
       "    </tr>\n",
       "  </thead>\n",
       "  <tbody>\n",
       "    <tr>\n",
       "      <th>0</th>\n",
       "      <td>1</td>\n",
       "      <td>0.377358</td>\n",
       "      <td>0.318471</td>\n",
       "    </tr>\n",
       "    <tr>\n",
       "      <th>1</th>\n",
       "      <td>2</td>\n",
       "      <td>0.320755</td>\n",
       "      <td>0.337580</td>\n",
       "    </tr>\n",
       "    <tr>\n",
       "      <th>2</th>\n",
       "      <td>7</td>\n",
       "      <td>0.301887</td>\n",
       "      <td>0.343949</td>\n",
       "    </tr>\n",
       "    <tr>\n",
       "      <th>3</th>\n",
       "      <td>12</td>\n",
       "      <td>0.358491</td>\n",
       "      <td>0.324841</td>\n",
       "    </tr>\n",
       "    <tr>\n",
       "      <th>4</th>\n",
       "      <td>17</td>\n",
       "      <td>0.377358</td>\n",
       "      <td>0.318471</td>\n",
       "    </tr>\n",
       "  </tbody>\n",
       "</table>\n",
       "</div>"
      ],
      "text/plain": [
       "   K Value  Test Data Accuracy  Train Data Accuracy\n",
       "0        1            0.377358             0.318471\n",
       "1        2            0.320755             0.337580\n",
       "2        7            0.301887             0.343949\n",
       "3       12            0.358491             0.324841\n",
       "4       17            0.377358             0.318471"
      ]
     },
     "execution_count": 119,
     "metadata": {},
     "output_type": "execute_result"
    }
   ],
   "source": [
    "AccuracySS = pd.DataFrame()\n",
    "Kst = [1,2,7,12,17,22,27,32,37,42,47,52]\n",
    "Ast = [0.377358,0.320755,0.301887,0.358491,0.377358,0.358491,0.226415,0.301887,0.433962,0.320755,0.339623,0.320755]\n",
    "Tst = [0.318471,0.337580,0.343949,0.324841,0.318471,0.324841,0.369427,0.343949,0.299363,0.337580,0.331210,0.337580]\n",
    "AccuracySS['K Value'] = Kst\n",
    "AccuracySS['Test Data Accuracy'] = Ast\n",
    "AccuracySS['Train Data Accuracy'] = Tst\n",
    "AccuracySS.head()"
   ]
  },
  {
   "cell_type": "markdown",
   "metadata": {},
   "source": [
    "### The results of the different methods are graphed below"
   ]
  },
  {
   "cell_type": "code",
   "execution_count": 120,
   "metadata": {},
   "outputs": [
    {
     "data": {
      "image/png": "[encoded data removed]",
      "text/plain": [
       "<Figure size 720x720 with 2 Axes>"
      ]
     },
     "metadata": {
      "needs_background": "light"
     },
     "output_type": "display_data"
    }
   ],
   "source": [
    "## K-Values can now be plotted as shown below\n",
    "import matplotlib.pyplot as plt\n",
    "\n",
    "fig = plt.figure(figsize=[10,10])\n",
    "ax1 = plt.subplot(211)\n",
    "ax2 = plt.subplot(212)\n",
    "ax1.plot(Accuracy['K Value'], Accuracy['Test Data Accuracy'], label='Test Data Accuracy')\n",
    "ax1.plot(Accuracy['K Value'], Accuracy['Train Data Accuracy'], label='Train Data Accuracy')\n",
    "ax1.set_xlabel('K Values')\n",
    "ax1.set_ylabel('Accuracy')\n",
    "ax1.set_title('Accuracy as a function of K-Nearest Neighbours using MinMaxScaler()', fontweight='bold')\n",
    "ax1.legend(loc='lower right')\n",
    "\n",
    "ax2.plot(AccuracySS['K Value'], AccuracySS['Test Data Accuracy'], label='Test Data Accuracy')\n",
    "ax2.plot(AccuracySS['K Value'], AccuracySS['Train Data Accuracy'], label='Train Data Accuracy')\n",
    "ax2.set_xlabel('K Values')\n",
    "ax2.set_ylabel('Accuracy')\n",
    "ax2.set_title('Accuracy as a function of K-Nearest Neighbours using StandardScaler()', fontweight='bold')\n",
    "ax2.legend(loc='lower right')\n",
    "\n",
    "\n",
    "plt.show()"
   ]
  },
  {
   "cell_type": "markdown",
   "metadata": {},
   "source": [
    "### Task 3 Finding best value of k"
   ]
  },
  {
   "cell_type": "code",
   "execution_count": 121,
   "metadata": {},
   "outputs": [],
   "source": [
    "#Will use MinMaxScaler() with K-value equivalent to 5\n",
    "#This provided the greatest accuracy for the test data, 41%, and average accuracy for train data, ~30%.\n",
    "#Final Model is thus\n",
    "n1 = preprocessing.MinMaxScaler()\n",
    "knn = KNeighborsClassifier(n_neighbors=5)"
   ]
  },
  {
   "cell_type": "code",
   "execution_count": 122,
   "metadata": {},
   "outputs": [
    {
     "name": "stderr",
     "output_type": "stream",
     "text": [
      "C:\\Users\\liamj\\AppData\\Local\\Packages\\PythonSoftwareFoundation.Python.3.9_qbz5n2kfra8p0\\LocalCache\\local-packages\\Python39\\site-packages\\sklearn\\base.py:438: UserWarning: X has feature names, but KNeighborsClassifier was fitted without feature names\n",
      "  warnings.warn(\n"
     ]
    },
    {
     "data": {
      "text/plain": [
       "array([[ 0, 20,  0],\n",
       "       [ 0, 18,  0],\n",
       "       [ 0, 15,  0]], dtype=int64)"
      ]
     },
     "execution_count": 122,
     "metadata": {},
     "output_type": "execute_result"
    }
   ],
   "source": [
    "from sklearn.metrics import confusion_matrix\n",
    "knn = knn.fit(Data_train, classtype_train)\n",
    "confusion_matrix(classtype_test, knn.predict(wheatData_test))\n",
    "\n",
    "#print(knn.score(wheatData_test, classtype_test))\n",
    "#Confusion matrix is a square matrix used to represent how a classification model performs\n",
    "#Our confusion matrix correctly predicted 'MIDDLE' as Rosa Wheat Seeds \n",
    "#   'TOP MIDDLE' Kama incorrectly predicted as Rosa Wheat Seeds\n",
    "#   'BOTTOM MIDDLE' Canadian incorrectly predicted as Rosa Wheat Seeds\n",
    "#The classification model only predicting rosa wheat seeds is a limitation of the k-nearest neighbour model"
   ]
  },
  {
   "cell_type": "markdown",
   "metadata": {},
   "source": [
    "### Task 4 Application of the Model"
   ]
  },
  {
   "cell_type": "code",
   "execution_count": 123,
   "metadata": {},
   "outputs": [
    {
     "name": "stderr",
     "output_type": "stream",
     "text": [
      "C:\\Users\\liamj\\AppData\\Local\\Packages\\PythonSoftwareFoundation.Python.3.9_qbz5n2kfra8p0\\LocalCache\\local-packages\\Python39\\site-packages\\sklearn\\base.py:438: UserWarning: X has feature names, but KNeighborsClassifier was fitted without feature names\n",
      "  warnings.warn(\n",
      "C:\\Users\\liamj\\AppData\\Local\\Packages\\PythonSoftwareFoundation.Python.3.9_qbz5n2kfra8p0\\LocalCache\\local-packages\\Python39\\site-packages\\sklearn\\base.py:438: UserWarning: X has feature names, but KNeighborsClassifier was fitted without feature names\n",
      "  warnings.warn(\n"
     ]
    },
    {
     "data": {
      "text/plain": [
       "0.3333333333333333"
      ]
     },
     "execution_count": 123,
     "metadata": {},
     "output_type": "execute_result"
    }
   ],
   "source": [
    "NewData = pd.DataFrame()\n",
    "NewData['Length of Kernel'] = [5.230, 5.508, 6.148]\n",
    "NewData['Width of Kernel'] = [2.854, 3.245, 3.677]\n",
    "NewData['WheatType'] = [3,1,2]\n",
    "\n",
    "knn.predict(NewData)\n",
    "knn.score(NewData, NewData['WheatType'])"
   ]
  }
 ],
 "metadata": {
  "interpreter": {
   "hash": "29aaa2af55d50673da0d4eedf7b0dd2ae653df1bf38d4b1f9f26fc747644033c"
  },
  "kernelspec": {
   "display_name": "Python 3.9.9 64-bit (windows store)",
   "language": "python",
   "name": "python3"
  },
  "language_info": {
   "codemirror_mode": {
    "name": "ipython",
    "version": 3
   },
   "file_extension": ".py",
   "mimetype": "text/x-python",
   "name": "python",
   "nbconvert_exporter": "python",
   "pygments_lexer": "ipython3",
   "version": "3.9.9"
  },
  "orig_nbformat": 4
 },
 "nbformat": 4,
 "nbformat_minor": 2
}
